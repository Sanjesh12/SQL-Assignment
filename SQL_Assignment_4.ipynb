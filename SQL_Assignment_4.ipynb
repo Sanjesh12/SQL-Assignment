{
 "cells": [
  {
   "cell_type": "markdown",
   "id": "545789ac",
   "metadata": {},
   "source": [
    "# SQL Assignment 4"
   ]
  },
  {
   "cell_type": "markdown",
   "id": "ab6edfc8",
   "metadata": {},
   "source": [
    "Q-1. Write an SQL query to print the FIRST_NAME from Worker table after replacing ‘a’ with ‘A’."
   ]
  },
  {
   "cell_type": "markdown",
   "id": "9c5f5f15",
   "metadata": {},
   "source": [
    "1 Ans: SELECT replace(FIRST_NAME,'a','A')\n",
    "       FROM worker"
   ]
  },
  {
   "cell_type": "markdown",
   "id": "a07a5c5d",
   "metadata": {},
   "source": [
    "Q-2. Write an SQL query to print all Worker details from the Worker table order by FIRST_NAME Ascending and DEPARTMENT Descending."
   ]
  },
  {
   "cell_type": "markdown",
   "id": "b1aa7c8d",
   "metadata": {},
   "source": [
    "2 Ans: SELECT *\n",
    "       FROM worker\n",
    "       ORDER BY FIRST_NAME ASC, DEPARTMENT DESC;"
   ]
  },
  {
   "cell_type": "markdown",
   "id": "e661a34b",
   "metadata": {},
   "source": [
    "Q-3. Write an SQL query to fetch the names of workers who earn the highest salary."
   ]
  },
  {
   "cell_type": "markdown",
   "id": "a198b05c",
   "metadata": {},
   "source": [
    "3 Ans: SELECT concat(FIRST_NAME, ' ' , LAST_NAME) AS NAME,SALARY\n",
    "FROM worker\n",
    "ORDER BY SALARY DESC"
   ]
  },
  {
   "cell_type": "code",
   "execution_count": null,
   "id": "bb5c360d",
   "metadata": {},
   "outputs": [],
   "source": []
  }
 ],
 "metadata": {
  "kernelspec": {
   "display_name": "Python 3 (ipykernel)",
   "language": "python",
   "name": "python3"
  },
  "language_info": {
   "codemirror_mode": {
    "name": "ipython",
    "version": 3
   },
   "file_extension": ".py",
   "mimetype": "text/x-python",
   "name": "python",
   "nbconvert_exporter": "python",
   "pygments_lexer": "ipython3",
   "version": "3.9.7"
  }
 },
 "nbformat": 4,
 "nbformat_minor": 5
}
