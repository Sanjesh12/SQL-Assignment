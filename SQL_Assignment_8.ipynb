{
 "cells": [
  {
   "cell_type": "markdown",
   "id": "08b3fdd5",
   "metadata": {},
   "source": [
    "# SQL Assignment 8"
   ]
  },
  {
   "cell_type": "markdown",
   "id": "bd3372b2",
   "metadata": {},
   "source": [
    "Q-15. Write an SQL query to fetch intersecting records of two tables."
   ]
  },
  {
   "cell_type": "markdown",
   "id": "2815c296",
   "metadata": {},
   "source": [
    "15 Ans: \n",
    "        \n",
    "        SELECT <Column_names> \n",
    "        FROM table_1 \n",
    "        INTERSECT \n",
    "        SELECT <Column_names> \n",
    "        FROM table_2;"
   ]
  },
  {
   "cell_type": "markdown",
   "id": "401ccaec",
   "metadata": {},
   "source": [
    "Q-16. Write an SQL query to show records from one table that another table does not have.\n"
   ]
  },
  {
   "cell_type": "markdown",
   "id": "307dc3c9",
   "metadata": {},
   "source": [
    "16 Ans:\n",
    "    \n",
    "        SELECT * \n",
    "        FROM table_1 \n",
    "        EXCEPT \n",
    "        SELECT * \n",
    "        FROM table_2;\n",
    "       "
   ]
  },
  {
   "cell_type": "code",
   "execution_count": null,
   "id": "194af965",
   "metadata": {},
   "outputs": [],
   "source": []
  }
 ],
 "metadata": {
  "kernelspec": {
   "display_name": "Python 3 (ipykernel)",
   "language": "python",
   "name": "python3"
  },
  "language_info": {
   "codemirror_mode": {
    "name": "ipython",
    "version": 3
   },
   "file_extension": ".py",
   "mimetype": "text/x-python",
   "name": "python",
   "nbconvert_exporter": "python",
   "pygments_lexer": "ipython3",
   "version": "3.9.7"
  }
 },
 "nbformat": 4,
 "nbformat_minor": 5
}
