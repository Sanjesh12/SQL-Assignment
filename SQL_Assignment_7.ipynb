{
 "cells": [
  {
   "cell_type": "markdown",
   "id": "31e5426a",
   "metadata": {},
   "source": [
    "# SQL Assignment 7"
   ]
  },
  {
   "cell_type": "markdown",
   "id": "990746da",
   "metadata": {},
   "source": [
    "Q-13. Write an SQL query to show only odd rows from a table."
   ]
  },
  {
   "cell_type": "markdown",
   "id": "18ab1ae5",
   "metadata": {},
   "source": [
    "13 Ans : SELECT *\n",
    "FROM worker\n",
    "WHERE mod(worker_id,2) = 1"
   ]
  },
  {
   "cell_type": "markdown",
   "id": "667a8c54",
   "metadata": {},
   "source": [
    "Q-14. Write an SQL query to clone a new table from another table."
   ]
  },
  {
   "cell_type": "markdown",
   "id": "bcc5a81c",
   "metadata": {},
   "source": [
    "14 Ans : \n",
    "    \n",
    "    CREATE TABLE new_worker LIKE worker;\n",
    "    INSERT INTO new_worker SELECT * FROM worker;"
   ]
  },
  {
   "cell_type": "code",
   "execution_count": null,
   "id": "2830b362",
   "metadata": {},
   "outputs": [],
   "source": []
  }
 ],
 "metadata": {
  "kernelspec": {
   "display_name": "Python 3 (ipykernel)",
   "language": "python",
   "name": "python3"
  },
  "language_info": {
   "codemirror_mode": {
    "name": "ipython",
    "version": 3
   },
   "file_extension": ".py",
   "mimetype": "text/x-python",
   "name": "python",
   "nbconvert_exporter": "python",
   "pygments_lexer": "ipython3",
   "version": "3.9.7"
  }
 },
 "nbformat": 4,
 "nbformat_minor": 5
}
