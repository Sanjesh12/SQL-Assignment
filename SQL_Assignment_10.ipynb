{
 "cells": [
  {
   "cell_type": "markdown",
   "id": "4fb80cc7",
   "metadata": {},
   "source": [
    "# SQL Assignment 10"
   ]
  },
  {
   "cell_type": "markdown",
   "id": "a27a3f71",
   "metadata": {},
   "source": [
    "Q-19. Write an SQL query to determine the 5th highest salary without using TOP or limit\n",
    "method."
   ]
  },
  {
   "cell_type": "markdown",
   "id": "f886d071",
   "metadata": {},
   "source": [
    "19 Ans: SELECT * FROM (SELECT ROW_NUMBER() OVER (ORDER BY salary DESC) AS R_NUM, first_name, salary FROM employee) a"
   ]
  },
  {
   "cell_type": "markdown",
   "id": "a9981df4",
   "metadata": {},
   "source": [
    "Q-20. Write an SQL query to fetch the list of employees with the same salary."
   ]
  },
  {
   "cell_type": "markdown",
   "id": "b85010d4",
   "metadata": {},
   "source": [
    "20 Ans: \n",
    "        \n",
    "        SELECT * \n",
    "        FROM employee ORDER BY salary ASC;"
   ]
  },
  {
   "cell_type": "code",
   "execution_count": null,
   "id": "39e68fa8",
   "metadata": {},
   "outputs": [],
   "source": []
  }
 ],
 "metadata": {
  "kernelspec": {
   "display_name": "Python 3 (ipykernel)",
   "language": "python",
   "name": "python3"
  },
  "language_info": {
   "codemirror_mode": {
    "name": "ipython",
    "version": 3
   },
   "file_extension": ".py",
   "mimetype": "text/x-python",
   "name": "python",
   "nbconvert_exporter": "python",
   "pygments_lexer": "ipython3",
   "version": "3.9.7"
  }
 },
 "nbformat": 4,
 "nbformat_minor": 5
}
