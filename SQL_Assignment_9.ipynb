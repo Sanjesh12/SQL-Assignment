{
 "cells": [
  {
   "cell_type": "markdown",
   "id": "6f294fa0",
   "metadata": {},
   "source": [
    "# SQL Assignment 9"
   ]
  },
  {
   "cell_type": "markdown",
   "id": "4bf49dde",
   "metadata": {},
   "source": [
    "Q-17. Write an SQL query to show the top n (say 10) records of a table."
   ]
  },
  {
   "cell_type": "markdown",
   "id": "46e4aafb",
   "metadata": {},
   "source": [
    "17 Ans:\n",
    "       \n",
    "       SELECT * \n",
    "       FROM Worker \n",
    "       LIMIT 10;"
   ]
  },
  {
   "cell_type": "markdown",
   "id": "a184c8af",
   "metadata": {},
   "source": [
    "Q-18. Write an SQL query to determine the nth (say n=5) highest salary from a table.\n"
   ]
  },
  {
   "cell_type": "markdown",
   "id": "f6b9c759",
   "metadata": {},
   "source": [
    "18 Ans:\n",
    "        \n",
    "        SELECT *\n",
    "        FROM Worker \n",
    "        ORDER BY SALARY DESC\n",
    "        LIMIT 5;\n",
    "        "
   ]
  }
 ],
 "metadata": {
  "kernelspec": {
   "display_name": "Python 3 (ipykernel)",
   "language": "python",
   "name": "python3"
  },
  "language_info": {
   "codemirror_mode": {
    "name": "ipython",
    "version": 3
   },
   "file_extension": ".py",
   "mimetype": "text/x-python",
   "name": "python",
   "nbconvert_exporter": "python",
   "pygments_lexer": "ipython3",
   "version": "3.9.7"
  }
 },
 "nbformat": 4,
 "nbformat_minor": 5
}
