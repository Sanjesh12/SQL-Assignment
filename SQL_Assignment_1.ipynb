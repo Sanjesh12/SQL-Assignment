{
 "cells": [
  {
   "cell_type": "markdown",
   "id": "ee8baba5",
   "metadata": {},
   "source": [
    "# SQL Assignment 1"
   ]
  },
  {
   "cell_type": "markdown",
   "id": "b105798d",
   "metadata": {},
   "source": [
    "Q-1. Write an SQL query to fetch “FIRST_NAME” from Worker table using the alias name as WORKER_NAME"
   ]
  },
  {
   "cell_type": "markdown",
   "id": "576983dc",
   "metadata": {},
   "source": [
    " 1 Ans: SELECT FIRST_NAME AS WORKER_NAME\n",
    "        FROM Work;"
   ]
  },
  {
   "cell_type": "markdown",
   "id": "7b478728",
   "metadata": {},
   "source": [
    "Q-2. Write an SQL query to fetch unique values of DEPARTMENT from Worker table."
   ]
  },
  {
   "cell_type": "markdown",
   "id": "c05f4d4d",
   "metadata": {},
   "source": [
    "2 Ans: SELECT DISTINCT DEPARTMENT\n",
    "       FROM Worker;"
   ]
  },
  {
   "cell_type": "markdown",
   "id": "36a969bf",
   "metadata": {},
   "source": [
    "Q-3. Write an SQL query to show the last 5 record from a table."
   ]
  },
  {
   "cell_type": "markdown",
   "id": "742fde8f",
   "metadata": {},
   "source": [
    "3 Ans: SELECT *\n",
    "       FROM Worker\n",
    "       ORDER BY DESC\n",
    "       LIMIT 5*"
   ]
  }
 ],
 "metadata": {
  "kernelspec": {
   "display_name": "Python 3 (ipykernel)",
   "language": "python",
   "name": "python3"
  },
  "language_info": {
   "codemirror_mode": {
    "name": "ipython",
    "version": 3
   },
   "file_extension": ".py",
   "mimetype": "text/x-python",
   "name": "python",
   "nbconvert_exporter": "python",
   "pygments_lexer": "ipython3",
   "version": "3.9.7"
  }
 },
 "nbformat": 4,
 "nbformat_minor": 5
}
