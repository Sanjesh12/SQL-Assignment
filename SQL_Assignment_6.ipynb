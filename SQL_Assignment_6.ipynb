{
 "cells": [
  {
   "cell_type": "markdown",
   "id": "1181397f",
   "metadata": {},
   "source": [
    "# SQL Assignment 6"
   ]
  },
  {
   "cell_type": "markdown",
   "id": "69e852b6",
   "metadata": {},
   "source": [
    "1-Q Write an SQL query to print details of the Workers who have joined in Feb’2014."
   ]
  },
  {
   "cell_type": "markdown",
   "id": "d357ebdd",
   "metadata": {},
   "source": [
    "1 Ans: SELECT *\n",
    "FROM worker\n",
    "WHERE YEAR(JOINING_DATE)=2014 and MONTH(JOINING_DATE)=2;"
   ]
  },
  {
   "cell_type": "markdown",
   "id": "1ce646cb",
   "metadata": {},
   "source": [
    "Q-2. Write an SQL query to fetch duplicate records having matching data in some fields of a table."
   ]
  },
  {
   "cell_type": "markdown",
   "id": "b944befc",
   "metadata": {},
   "source": [
    "2 Ans: SELECT WORKER_TITLE, AFFECTED_FROM, COUNT(*)\n",
    "FROM Title\n",
    "GROUP BY WORKER_TITLE, AFFECTED_FROM\n",
    "HAVING COUNT(*) > 1;"
   ]
  },
  {
   "cell_type": "markdown",
   "id": "edc1d3dd",
   "metadata": {},
   "source": [
    "Q-3. How to remove duplicate rows from Employees table."
   ]
  },
  {
   "cell_type": "code",
   "execution_count": null,
   "id": "ac53f39d",
   "metadata": {},
   "outputs": [],
   "source": [
    "3 Ans: "
   ]
  }
 ],
 "metadata": {
  "kernelspec": {
   "display_name": "Python 3 (ipykernel)",
   "language": "python",
   "name": "python3"
  },
  "language_info": {
   "codemirror_mode": {
    "name": "ipython",
    "version": 3
   },
   "file_extension": ".py",
   "mimetype": "text/x-python",
   "name": "python",
   "nbconvert_exporter": "python",
   "pygments_lexer": "ipython3",
   "version": "3.9.7"
  }
 },
 "nbformat": 4,
 "nbformat_minor": 5
}
