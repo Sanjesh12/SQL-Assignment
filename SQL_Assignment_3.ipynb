{
 "cells": [
  {
   "cell_type": "markdown",
   "id": "4aa930d8",
   "metadata": {},
   "source": [
    "# SQL Assignment 3"
   ]
  },
  {
   "cell_type": "markdown",
   "id": "ec86f9ff",
   "metadata": {},
   "source": [
    "Q-1. Write an SQL query to print the FIRST_NAME from Worker table after removing white spaces from the right side."
   ]
  },
  {
   "cell_type": "markdown",
   "id": "09c278c1",
   "metadata": {},
   "source": [
    "1 Ans: SELECT rtrim(FIRST_NAME)\n",
    "       FROM worker;"
   ]
  },
  {
   "cell_type": "markdown",
   "id": "3c6993fd",
   "metadata": {},
   "source": [
    "Q-2. Write an SQL query that fetches the unique values of DEPARTMENT from Worker table and prints its length."
   ]
  },
  {
   "cell_type": "markdown",
   "id": "b9706ebd",
   "metadata": {},
   "source": [
    "2 Ans: SELECT distinct length(DEPARTMENT) \n",
    "       FROM worker"
   ]
  },
  {
   "cell_type": "markdown",
   "id": "da83c860",
   "metadata": {},
   "source": [
    "Q-3. Write an SQL query to fetch nth max salaries from a table."
   ]
  },
  {
   "cell_type": "markdown",
   "id": "b14be2c2",
   "metadata": {},
   "source": [
    "3 Ans: SELECT concat(FIRST_NAME, ' ' , LAST_NAME) AS NAME,SALARY\n",
    "       FROM worker \n",
    "       ORDER BY SALARY DESC"
   ]
  },
  {
   "cell_type": "code",
   "execution_count": null,
   "id": "53ba22a8",
   "metadata": {},
   "outputs": [],
   "source": []
  }
 ],
 "metadata": {
  "kernelspec": {
   "display_name": "Python 3 (ipykernel)",
   "language": "python",
   "name": "python3"
  },
  "language_info": {
   "codemirror_mode": {
    "name": "ipython",
    "version": 3
   },
   "file_extension": ".py",
   "mimetype": "text/x-python",
   "name": "python",
   "nbconvert_exporter": "python",
   "pygments_lexer": "ipython3",
   "version": "3.9.7"
  }
 },
 "nbformat": 4,
 "nbformat_minor": 5
}
