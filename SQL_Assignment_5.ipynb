{
 "cells": [
  {
   "cell_type": "markdown",
   "id": "7fe7af31",
   "metadata": {},
   "source": [
    "# SQL Assignment 5"
   ]
  },
  {
   "cell_type": "markdown",
   "id": "3b0aa9c9",
   "metadata": {},
   "source": [
    "Q-1. Write an SQL query to print details of workers excluding first names, “Vipul” and “Satish” from Worker table."
   ]
  },
  {
   "cell_type": "markdown",
   "id": "f1054c0d",
   "metadata": {},
   "source": [
    "1 Ans: SELECT *\n",
    "FROM worker\n",
    "WHERE FIRST_NAME in ('Vipul','Satish',)"
   ]
  },
  {
   "cell_type": "markdown",
   "id": "b449e013",
   "metadata": {},
   "source": [
    "Q-2. Write an SQL query to print details of the Workers whose FIRST_NAME ends with ‘h’ and contains six alphabets."
   ]
  },
  {
   "cell_type": "markdown",
   "id": "59b3f588",
   "metadata": {},
   "source": [
    "2 Ans: SELECT *\n",
    "FROM worker\n",
    "WHERE FIRST_NAME LIKE '-----h';"
   ]
  },
  {
   "cell_type": "markdown",
   "id": "7102dafa",
   "metadata": {},
   "source": [
    "Q-3. Write a query to validate Email of Employee."
   ]
  },
  {
   "cell_type": "code",
   "execution_count": null,
   "id": "4f9441ac",
   "metadata": {},
   "outputs": [],
   "source": [
    "3 Ans: SELECT * FROM Worker WHERE email LIKE \"_%@_%._%\""
   ]
  }
 ],
 "metadata": {
  "kernelspec": {
   "display_name": "Python 3 (ipykernel)",
   "language": "python",
   "name": "python3"
  },
  "language_info": {
   "codemirror_mode": {
    "name": "ipython",
    "version": 3
   },
   "file_extension": ".py",
   "mimetype": "text/x-python",
   "name": "python",
   "nbconvert_exporter": "python",
   "pygments_lexer": "ipython3",
   "version": "3.9.7"
  }
 },
 "nbformat": 4,
 "nbformat_minor": 5
}
