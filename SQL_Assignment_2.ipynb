{
 "cells": [
  {
   "cell_type": "markdown",
   "id": "f251df19",
   "metadata": {},
   "source": [
    "# SQL Assignment 2"
   ]
  },
  {
   "cell_type": "markdown",
   "id": "2341cefe",
   "metadata": {},
   "source": [
    "Q-1. Write an SQL query to print the first three characters of  FIRST_NAME from Worker table."
   ]
  },
  {
   "cell_type": "markdown",
   "id": "9bab14d1",
   "metadata": {},
   "source": [
    "1 Ans:SELECT SUBSTRING(FIRST_NAME,1,3)\n",
    "      FROM WORKER;"
   ]
  },
  {
   "cell_type": "markdown",
   "id": "65618499",
   "metadata": {},
   "source": [
    "Q-2. Write an SQL query to find the position of the alphabet (‘a’) in the first name column ‘Amitabh’ from Worker table."
   ]
  },
  {
   "cell_type": "markdown",
   "id": "304a6552",
   "metadata": {},
   "source": [
    "2 Ans: SELECT INSTR(FIRST_NAME,BINARY'a')\n",
    "       FROM WORKER\n",
    "       WHERE FIRST_NAME = 'Amitabh';"
   ]
  },
  {
   "cell_type": "markdown",
   "id": "3ff9c24f",
   "metadata": {},
   "source": [
    "Q-3. Write an SQL query to print the name of employees having the highest salary in each department."
   ]
  },
  {
   "cell_type": "markdown",
   "id": "22a24dde",
   "metadata": {},
   "source": [
    "3 Ans: SELECT concat(FIRST_NAME, ' ',LAST_NAME) AS NAME, SALARY\n",
    "       FROM worker\n",
    "       ORDER BY SALARY DESC"
   ]
  }
 ],
 "metadata": {
  "kernelspec": {
   "display_name": "Python 3 (ipykernel)",
   "language": "python",
   "name": "python3"
  },
  "language_info": {
   "codemirror_mode": {
    "name": "ipython",
    "version": 3
   },
   "file_extension": ".py",
   "mimetype": "text/x-python",
   "name": "python",
   "nbconvert_exporter": "python",
   "pygments_lexer": "ipython3",
   "version": "3.9.7"
  }
 },
 "nbformat": 4,
 "nbformat_minor": 5
}
